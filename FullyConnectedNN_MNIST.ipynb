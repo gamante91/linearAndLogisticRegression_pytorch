{
  "nbformat": 4,
  "nbformat_minor": 0,
  "metadata": {
    "colab": {
      "name": "FullyConnectedNN_MNIST.ipynb",
      "version": "0.3.2",
      "provenance": [],
      "collapsed_sections": [],
      "include_colab_link": true
    },
    "kernelspec": {
      "name": "python3",
      "display_name": "Python 3"
    },
    "accelerator": "GPU"
  },
  "cells": [
    {
      "cell_type": "markdown",
      "metadata": {
        "id": "view-in-github",
        "colab_type": "text"
      },
      "source": [
        "[View in Colaboratory](https://colab.research.google.com/github/gamante91/pytorch_notebooks/blob/master/FullyConnectedNN_MNIST.ipynb)"
      ]
    },
    {
      "metadata": {
        "id": "1qeQ8ICyS12a",
        "colab_type": "code",
        "colab": {
          "base_uri": "https://localhost:8080/",
          "height": 136
        },
        "outputId": "f0d431f7-4a71-4d18-907a-4c589b090633"
      },
      "cell_type": "code",
      "source": [
        "# http://pytorch.org/\n",
        "from os import path\n",
        "from wheel.pep425tags import get_abbr_impl, get_impl_ver, get_abi_tag\n",
        "platform = '{}{}-{}'.format(get_abbr_impl(), get_impl_ver(), get_abi_tag())\n",
        "\n",
        "accelerator = 'cu80' #'cu80' if path.exists('/opt/bin/nvidia-smi') else 'cpu'\n",
        "print('Platform:', platform, 'Accelerator:', accelerator)\n",
        "\n",
        "!pip install --upgrade torch\n",
        "!pip install --upgrade torchvision"
      ],
      "execution_count": 66,
      "outputs": [
        {
          "output_type": "stream",
          "text": [
            "Platform: cp36-cp36m Accelerator: cu80\n",
            "Requirement already up-to-date: torch in /usr/local/lib/python3.6/dist-packages (0.4.1)\n",
            "Requirement already up-to-date: torchvision in /usr/local/lib/python3.6/dist-packages (0.2.1)\n",
            "Requirement already satisfied, skipping upgrade: pillow>=4.1.1 in /usr/local/lib/python3.6/dist-packages (from torchvision) (5.2.0)\n",
            "Requirement already satisfied, skipping upgrade: six in /usr/local/lib/python3.6/dist-packages (from torchvision) (1.11.0)\n",
            "Requirement already satisfied, skipping upgrade: numpy in /usr/local/lib/python3.6/dist-packages (from torchvision) (1.14.5)\n",
            "Requirement already satisfied, skipping upgrade: torch in /usr/local/lib/python3.6/dist-packages (from torchvision) (0.4.1)\n"
          ],
          "name": "stdout"
        }
      ]
    },
    {
      "metadata": {
        "id": "Z-Y11YS1TBSI",
        "colab_type": "code",
        "colab": {
          "base_uri": "https://localhost:8080/",
          "height": 51
        },
        "outputId": "e269582f-94db-4403-e98a-500998f6e847"
      },
      "cell_type": "code",
      "source": [
        "import torch\n",
        "import torch.nn as nn\n",
        "import torchvision\n",
        "import torchvision.transforms as transforms\n",
        "import matplotlib.pyplot as plt\n",
        "\n",
        "# Device configuration\n",
        "device = torch.device('cuda' if torch.cuda.is_available() else 'cpu')\n",
        "\n",
        "print('Torch', torch.__version__, 'CUDA', torch.version.cuda)\n",
        "print('Device:', device)"
      ],
      "execution_count": 59,
      "outputs": [
        {
          "output_type": "stream",
          "text": [
            "Torch 0.4.1 CUDA 9.0.176\n",
            "Device: cuda\n"
          ],
          "name": "stdout"
        }
      ]
    },
    {
      "metadata": {
        "id": "ov_GcBHnTFVG",
        "colab_type": "code",
        "colab": {}
      },
      "cell_type": "code",
      "source": [
        "# Hyper-parameter\n",
        "batch_size = 100\n",
        "\n",
        "# Load the MNIST dataset with torchvision \n",
        "train_dataset = torchvision.datasets.MNIST(root='../../data', \n",
        "                                           train=True, \n",
        "                                           transform=transforms.ToTensor(),  \n",
        "                                           download=True)\n",
        "\n",
        "test_dataset = torchvision.datasets.MNIST(root='../../data', \n",
        "                                          train=False, \n",
        "                                          transform=transforms.ToTensor())\n",
        "\n",
        "# Data loader\n",
        "train_loader = torch.utils.data.DataLoader(dataset=train_dataset, \n",
        "                                           batch_size=batch_size, \n",
        "                                           shuffle=True)\n",
        "\n",
        "test_loader = torch.utils.data.DataLoader(dataset=test_dataset, \n",
        "                                          batch_size=batch_size, \n",
        "                                          shuffle=False)"
      ],
      "execution_count": 0,
      "outputs": []
    },
    {
      "metadata": {
        "id": "vR5WTqQSTbsg",
        "colab_type": "code",
        "colab": {}
      },
      "cell_type": "code",
      "source": [
        "# Define Neural Network model\n",
        "class NeuralNet(nn.Module):\n",
        "    def __init__(self, input_size, hidden_size, out_size):\n",
        "        super(NeuralNet,self).__init__()\n",
        "        self.fc1 = nn.Linear(input_size,hidden_size)\n",
        "        self.relu = nn.ReLU()\n",
        "        self.fc2 = nn.Linear(hidden_size,out_size)\n",
        "        \n",
        "    def forward(self,x):\n",
        "        out = self.fc1(x)\n",
        "        out = self.relu(out)\n",
        "        out = self.fc2(out)\n",
        "        return out"
      ],
      "execution_count": 0,
      "outputs": []
    },
    {
      "metadata": {
        "id": "siuLRtpNTeXv",
        "colab_type": "code",
        "colab": {
          "base_uri": "https://localhost:8080/",
          "height": 153
        },
        "outputId": "788b9e16-f96f-489e-c33e-5dbd3076901a"
      },
      "cell_type": "code",
      "source": [
        "# Instanciate the model\n",
        "input_size = 784\n",
        "hidden_size = 500\n",
        "num_classes = 10\n",
        "\n",
        "model = NeuralNet(input_size,hidden_size,num_classes).to(device)\n",
        "\n",
        "print(\"Model description:\\n\", model)"
      ],
      "execution_count": 62,
      "outputs": [
        {
          "output_type": "stream",
          "text": [
            "Model description:\n",
            " NeuralNet(\n",
            "  (fc1): Linear(in_features=784, out_features=500, bias=True)\n",
            "  (relu1): ReLU()\n",
            "  (fc2): Linear(in_features=500, out_features=500, bias=True)\n",
            "  (relu2): ReLU()\n",
            "  (fc3): Linear(in_features=500, out_features=10, bias=True)\n",
            ")\n"
          ],
          "name": "stdout"
        }
      ]
    },
    {
      "metadata": {
        "id": "n3_NXQ3hTgO_",
        "colab_type": "code",
        "colab": {}
      },
      "cell_type": "code",
      "source": [
        "# Hyper-parameters\n",
        "alpha = 0.001\n",
        "\n",
        "# Construct loss function and optimizer\n",
        "criterion = nn.CrossEntropyLoss()                           # Cross Entropy Loss\n",
        "optimizer = torch.optim.SGD(model.parameters(), lr = alpha) # Stochastic Gradient Descent"
      ],
      "execution_count": 0,
      "outputs": []
    },
    {
      "metadata": {
        "id": "q3mcrrJ2TiaD",
        "colab_type": "code",
        "colab": {
          "base_uri": "https://localhost:8080/",
          "height": 2078
        },
        "outputId": "9891b49c-88bc-4448-874d-e4eb1378c838"
      },
      "cell_type": "code",
      "source": [
        "# Hyper-parameters \n",
        "num_epochs = 100\n",
        "losses = []\n",
        "\n",
        "# Train the model\n",
        "for epoch in range(num_epochs):\n",
        "    for i, (images, labels) in enumerate(train_loader):\n",
        "        # Move tensors to the configured device\n",
        "        images = images.reshape(-1, 28*28).to(device)\n",
        "        labels = labels.to(device)\n",
        "        \n",
        "        # Forward pass\n",
        "        outputs = model.forward(images)\n",
        "        \n",
        "        # Compute loss\n",
        "        loss = criterion(outputs, labels)\n",
        "    \n",
        "        # Compute gradient and update model parameters\n",
        "        optimizer.zero_grad()\n",
        "        loss.backward()\n",
        "        optimizer.step()\n",
        "        \n",
        "    losses.append(loss.item())\n",
        "    print(\"Epoch:\", epoch, \"loss:\", loss.item())\n",
        "\n",
        "plt.plot(range(num_epochs), losses)\n",
        "plt.ylabel('Loss')\n",
        "plt.xlabel('epoch')"
      ],
      "execution_count": 64,
      "outputs": [
        {
          "output_type": "stream",
          "text": [
            "Epoch: 0 loss: 2.273613691329956\n",
            "Epoch: 1 loss: 2.2443509101867676\n",
            "Epoch: 2 loss: 2.197798013687134\n",
            "Epoch: 3 loss: 2.127786636352539\n",
            "Epoch: 4 loss: 2.048485517501831\n",
            "Epoch: 5 loss: 1.9188737869262695\n",
            "Epoch: 6 loss: 1.7900259494781494\n",
            "Epoch: 7 loss: 1.642038106918335\n",
            "Epoch: 8 loss: 1.3607486486434937\n",
            "Epoch: 9 loss: 1.1722816228866577\n",
            "Epoch: 10 loss: 0.9695562720298767\n",
            "Epoch: 11 loss: 0.9060817956924438\n",
            "Epoch: 12 loss: 0.8617351055145264\n",
            "Epoch: 13 loss: 0.7917794585227966\n",
            "Epoch: 14 loss: 0.7191458344459534\n",
            "Epoch: 15 loss: 0.6929659247398376\n",
            "Epoch: 16 loss: 0.6754221320152283\n",
            "Epoch: 17 loss: 0.5519986748695374\n",
            "Epoch: 18 loss: 0.45546218752861023\n",
            "Epoch: 19 loss: 0.483557790517807\n",
            "Epoch: 20 loss: 0.586173415184021\n",
            "Epoch: 21 loss: 0.4298493266105652\n",
            "Epoch: 22 loss: 0.521624743938446\n",
            "Epoch: 23 loss: 0.39270153641700745\n",
            "Epoch: 24 loss: 0.4378627836704254\n",
            "Epoch: 25 loss: 0.44466981291770935\n",
            "Epoch: 26 loss: 0.37693899869918823\n",
            "Epoch: 27 loss: 0.4073059856891632\n",
            "Epoch: 28 loss: 0.4463300406932831\n",
            "Epoch: 29 loss: 0.380693256855011\n",
            "Epoch: 30 loss: 0.46134719252586365\n",
            "Epoch: 31 loss: 0.34980353713035583\n",
            "Epoch: 32 loss: 0.3310699760913849\n",
            "Epoch: 33 loss: 0.44836872816085815\n",
            "Epoch: 34 loss: 0.5416334867477417\n",
            "Epoch: 35 loss: 0.4779409170150757\n",
            "Epoch: 36 loss: 0.20437678694725037\n",
            "Epoch: 37 loss: 0.40462279319763184\n",
            "Epoch: 38 loss: 0.5054377317428589\n",
            "Epoch: 39 loss: 0.30254268646240234\n",
            "Epoch: 40 loss: 0.3081655502319336\n",
            "Epoch: 41 loss: 0.372260183095932\n",
            "Epoch: 42 loss: 0.35707852244377136\n",
            "Epoch: 43 loss: 0.30113184452056885\n",
            "Epoch: 44 loss: 0.4468415081501007\n",
            "Epoch: 45 loss: 0.47994858026504517\n",
            "Epoch: 46 loss: 0.25577718019485474\n",
            "Epoch: 47 loss: 0.40445196628570557\n",
            "Epoch: 48 loss: 0.3463060259819031\n",
            "Epoch: 49 loss: 0.34371793270111084\n",
            "Epoch: 50 loss: 0.2976105213165283\n",
            "Epoch: 51 loss: 0.4230711758136749\n",
            "Epoch: 52 loss: 0.3198622167110443\n",
            "Epoch: 53 loss: 0.35733193159103394\n",
            "Epoch: 54 loss: 0.2735968232154846\n",
            "Epoch: 55 loss: 0.28480151295661926\n",
            "Epoch: 56 loss: 0.18322305381298065\n",
            "Epoch: 57 loss: 0.36276382207870483\n",
            "Epoch: 58 loss: 0.36537399888038635\n",
            "Epoch: 59 loss: 0.42063817381858826\n",
            "Epoch: 60 loss: 0.3029738962650299\n",
            "Epoch: 61 loss: 0.39638832211494446\n",
            "Epoch: 62 loss: 0.27859732508659363\n",
            "Epoch: 63 loss: 0.42440328001976013\n",
            "Epoch: 64 loss: 0.437193363904953\n",
            "Epoch: 65 loss: 0.14470839500427246\n",
            "Epoch: 66 loss: 0.20388182997703552\n",
            "Epoch: 67 loss: 0.214025616645813\n",
            "Epoch: 68 loss: 0.4103800654411316\n",
            "Epoch: 69 loss: 0.1992986500263214\n",
            "Epoch: 70 loss: 0.2879791557788849\n",
            "Epoch: 71 loss: 0.28602761030197144\n",
            "Epoch: 72 loss: 0.19303879141807556\n",
            "Epoch: 73 loss: 0.2581694722175598\n",
            "Epoch: 74 loss: 0.423232764005661\n",
            "Epoch: 75 loss: 0.22922983765602112\n",
            "Epoch: 76 loss: 0.24105343222618103\n",
            "Epoch: 77 loss: 0.3027675151824951\n",
            "Epoch: 78 loss: 0.2576662302017212\n",
            "Epoch: 79 loss: 0.380516916513443\n",
            "Epoch: 80 loss: 0.24824577569961548\n",
            "Epoch: 81 loss: 0.2764110267162323\n",
            "Epoch: 82 loss: 0.12149675190448761\n",
            "Epoch: 83 loss: 0.4453171491622925\n",
            "Epoch: 84 loss: 0.3051539361476898\n",
            "Epoch: 85 loss: 0.32880905270576477\n",
            "Epoch: 86 loss: 0.33394762873649597\n",
            "Epoch: 87 loss: 0.16715985536575317\n",
            "Epoch: 88 loss: 0.3279414474964142\n",
            "Epoch: 89 loss: 0.3452964723110199\n",
            "Epoch: 90 loss: 0.268921822309494\n",
            "Epoch: 91 loss: 0.20004920661449432\n",
            "Epoch: 92 loss: 0.31849682331085205\n",
            "Epoch: 93 loss: 0.15808914601802826\n",
            "Epoch: 94 loss: 0.2194136083126068\n",
            "Epoch: 95 loss: 0.19049397110939026\n",
            "Epoch: 96 loss: 0.11470367759466171\n",
            "Epoch: 97 loss: 0.1584174931049347\n",
            "Epoch: 98 loss: 0.1914484053850174\n",
            "Epoch: 99 loss: 0.3832073509693146\n"
          ],
          "name": "stdout"
        },
        {
          "output_type": "execute_result",
          "data": {
            "text/plain": [
              "Text(0.5,0,'epoch')"
            ]
          },
          "metadata": {
            "tags": []
          },
          "execution_count": 64
        },
        {
          "output_type": "display_data",
          "data": {
            "image/png": "[encoded data removed]",
            "text/plain": [
              "<matplotlib.figure.Figure at 0x7fdcc2621b00>"
            ]
          },
          "metadata": {
            "tags": []
          }
        }
      ]
    },
    {
      "metadata": {
        "id": "DqwFbYOrTlFf",
        "colab_type": "code",
        "colab": {
          "base_uri": "https://localhost:8080/",
          "height": 51
        },
        "outputId": "d447615a-5e96-4edc-8df3-fb05c56b989e"
      },
      "cell_type": "code",
      "source": [
        "# Test the model\n",
        "with torch.no_grad():\n",
        "    correct = 0\n",
        "    total = 0\n",
        "    for images, labels in test_loader:\n",
        "        images = images.reshape(-1, 28*28).to(device)\n",
        "        labels = labels.to(device)\n",
        "        outputs = model.forward(images)\n",
        "        _, predicted = torch.max(outputs.data, 1)\n",
        "        total += labels.size(0)\n",
        "        correct += (predicted == labels).sum().item()\n",
        "\n",
        "    print('Accuracy of the network on the 10000 test images: {} %'.format(100 * correct / total))\n",
        "    \n",
        "    correct = 0\n",
        "    total = 0\n",
        "    for images, labels in train_loader:\n",
        "        images = images.reshape(-1, 28*28).to(device)\n",
        "        labels = labels.to(device)\n",
        "        outputs = model.forward(images)\n",
        "        _, predicted = torch.max(outputs.data, 1)\n",
        "        total += labels.size(0)\n",
        "        correct += (predicted == labels).sum().item()\n",
        "\n",
        "    print('Accuracy of the network on the 10000 train images: {} %'.format(100 * correct / total))"
      ],
      "execution_count": 65,
      "outputs": [
        {
          "output_type": "stream",
          "text": [
            "Accuracy of the network on the 10000 test images: 92.95 %\n",
            "Accuracy of the network on the 10000 train images: 92.69333333333333 %\n"
          ],
          "name": "stdout"
        }
      ]
    },
    {
      "metadata": {
        "id": "PZ79ziZfap7Y",
        "colab_type": "code",
        "colab": {}
      },
      "cell_type": "code",
      "source": [
        ""
      ],
      "execution_count": 0,
      "outputs": []
    }
  ]
}